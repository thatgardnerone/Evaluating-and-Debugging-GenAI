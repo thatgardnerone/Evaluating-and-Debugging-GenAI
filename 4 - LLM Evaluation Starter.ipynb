{
 "cells": [
  {
   "metadata": {},
   "cell_type": "markdown",
   "source": [
    "# LLM Evaluation and Tracing with W&B\n",
    "## Using Tables for Evaluation\n",
    "In this section, we'll use an LLM to generate names for game assets. We'll use W&B Tables to evaluate the generations.\n",
    "\n",
    "Note, the DLAI tutorial uses OpenAI's API, which we will set up, but we should then try to use our local Ollama API."
   ],
   "id": "d9b70715f3e02fb3"
  },
  {
   "metadata": {
    "ExecuteTime": {
     "end_time": "2024-04-30T15:34:07.176182Z",
     "start_time": "2024-04-30T15:34:06.696978Z"
    }
   },
   "cell_type": "code",
   "source": [
    "import os\n",
    "import random\n",
    "import time\n",
    "import datetime\n",
    "\n",
    "import openai\n",
    "\n",
    "from tenacity import (\n",
    "    retry,\n",
    "    stop_after_attempt,\n",
    "    wait_random_exponential,\n",
    ")\n",
    "import wandb\n",
    "from wandb.sdk.data_types.trace_tree import Trace"
   ],
   "id": "f3cf3d0a72293379",
   "outputs": [],
   "execution_count": 1
  },
  {
   "metadata": {
    "ExecuteTime": {
     "end_time": "2024-04-30T15:39:16.785102Z",
     "start_time": "2024-04-30T15:39:16.776527Z"
    }
   },
   "cell_type": "code",
   "source": [
    "import sys\n",
    "\n",
    "sys.path.append(\"../..\")\n",
    "\n",
    "from dotenv import load_dotenv, find_dotenv\n",
    "\n",
    "_ = load_dotenv(find_dotenv())\n",
    "\n",
    "openai.api_key = os.environ['OPENAI_API_KEY']"
   ],
   "id": "5303da10195dd484",
   "outputs": [],
   "execution_count": 5
  },
  {
   "metadata": {
    "ExecuteTime": {
     "end_time": "2024-04-30T15:34:49.825646Z",
     "start_time": "2024-04-30T15:34:49.823686Z"
    }
   },
   "cell_type": "code",
   "source": [
    "PROJECT = \"dlai_llm\"\n",
    "MODEL_NAME = \"gpt-3.5-turbo\""
   ],
   "id": "134ee0a5962afa02",
   "outputs": [],
   "execution_count": 2
  },
  {
   "metadata": {
    "ExecuteTime": {
     "end_time": "2024-04-30T15:34:55.778463Z",
     "start_time": "2024-04-30T15:34:54.774488Z"
    }
   },
   "cell_type": "code",
   "source": "wandb.login()",
   "id": "2c7b05a781d46b4f",
   "outputs": [
    {
     "name": "stderr",
     "output_type": "stream",
     "text": [
      "\u001B[34m\u001B[1mwandb\u001B[0m: Currently logged in as: \u001B[33mthatgardnerone\u001B[0m. Use \u001B[1m`wandb login --relogin`\u001B[0m to force relogin\n"
     ]
    },
    {
     "data": {
      "text/plain": [
       "True"
      ]
     },
     "execution_count": 3,
     "metadata": {},
     "output_type": "execute_result"
    }
   ],
   "execution_count": 3
  },
  {
   "metadata": {
    "ExecuteTime": {
     "end_time": "2024-04-30T15:35:20.214774Z",
     "start_time": "2024-04-30T15:35:19.459327Z"
    }
   },
   "cell_type": "code",
   "source": "run = wandb.init(project=PROJECT, job_type=\"generation\")",
   "id": "bb9aa39a2b39ec33",
   "outputs": [
    {
     "data": {
      "text/plain": [
       "<IPython.core.display.HTML object>"
      ],
      "text/html": [
       "Tracking run with wandb version 0.16.6"
      ]
     },
     "metadata": {},
     "output_type": "display_data"
    },
    {
     "data": {
      "text/plain": [
       "<IPython.core.display.HTML object>"
      ],
      "text/html": [
       "Run data is saved locally in <code>/Users/C4040588/code/CEVIN/Notebooks/Evaluating and Debugging GenAI/wandb/run-20240430_163519-7o61seij</code>"
      ]
     },
     "metadata": {},
     "output_type": "display_data"
    },
    {
     "data": {
      "text/plain": [
       "<IPython.core.display.HTML object>"
      ],
      "text/html": [
       "Syncing run <strong><a href='https://wandb.ai/thatgardnerone/dlai_llm/runs/7o61seij' target=\"_blank\">clean-music-1</a></strong> to <a href='https://wandb.ai/thatgardnerone/dlai_llm' target=\"_blank\">Weights & Biases</a> (<a href='https://wandb.me/run' target=\"_blank\">docs</a>)<br/>"
      ]
     },
     "metadata": {},
     "output_type": "display_data"
    },
    {
     "data": {
      "text/plain": [
       "<IPython.core.display.HTML object>"
      ],
      "text/html": [
       " View project at <a href='https://wandb.ai/thatgardnerone/dlai_llm' target=\"_blank\">https://wandb.ai/thatgardnerone/dlai_llm</a>"
      ]
     },
     "metadata": {},
     "output_type": "display_data"
    },
    {
     "data": {
      "text/plain": [
       "<IPython.core.display.HTML object>"
      ],
      "text/html": [
       " View run at <a href='https://wandb.ai/thatgardnerone/dlai_llm/runs/7o61seij' target=\"_blank\">https://wandb.ai/thatgardnerone/dlai_llm/runs/7o61seij</a>"
      ]
     },
     "metadata": {},
     "output_type": "display_data"
    }
   ],
   "execution_count": 4
  },
  {
   "metadata": {},
   "cell_type": "markdown",
   "source": [
    "### Simple Generations\n",
    "Let's start by generating names for our game assets using the LLM, saving the resulting generations in W&B Tables."
   ],
   "id": "bfc4c8cd0d3363bc"
  },
  {
   "metadata": {
    "ExecuteTime": {
     "end_time": "2024-04-30T15:57:00.405779Z",
     "start_time": "2024-04-30T15:57:00.375906Z"
    }
   },
   "cell_type": "code",
   "source": [
    "from openai import AsyncOpenAI\n",
    "\n",
    "client = AsyncOpenAI()\n",
    "\n",
    "@retry(wait=wait_random_exponential(min=1, max=60), stop=stop_after_attempt(6))\n",
    "def completion_with_backoff(**kwargs):\n",
    "    return client.chat.completions.create(**kwargs)"
   ],
   "id": "b7246f345c2bd172",
   "outputs": [],
   "execution_count": 12
  },
  {
   "metadata": {
    "ExecuteTime": {
     "end_time": "2024-04-30T15:58:39.269766Z",
     "start_time": "2024-04-30T15:58:39.265138Z"
    }
   },
   "cell_type": "code",
   "source": [
    "def generate_and_print(system_prompt, user_prompt, table, n=5):\n",
    "    messages = [\n",
    "        {'role': 'system', 'content': system_prompt},\n",
    "        {'role': 'user', 'content': user_prompt}\n",
    "    ]\n",
    "\n",
    "    start_time = time.time()\n",
    "    responses = completion_with_backoff(\n",
    "        model=MODEL_NAME,\n",
    "        messages=messages,\n",
    "        n=n\n",
    "    )\n",
    "    elapsed_time = time.time() - start_time\n",
    "    \n",
    "    print(responses)\n",
    "\n",
    "    for response in responses.choices:\n",
    "        generation = response.message.content\n",
    "        print(generation)\n",
    "\n",
    "    table.add_data(\n",
    "        system_prompt,\n",
    "        user_prompt,\n",
    "        [response.message.content for response in responses.choices],\n",
    "        elapsed_time,\n",
    "        datetime.datetime.fromtimestamp(responses.created),\n",
    "        responses.model,\n",
    "        responses.usage.prompt_tokens,\n",
    "        responses.usage.completion_tokens,\n",
    "        responses.usage.total_tokens,\n",
    "    )"
   ],
   "id": "57c2001babbe814d",
   "outputs": [],
   "execution_count": 17
  },
  {
   "metadata": {
    "ExecuteTime": {
     "end_time": "2024-04-30T15:57:02.815074Z",
     "start_time": "2024-04-30T15:57:02.813093Z"
    }
   },
   "cell_type": "code",
   "source": [
    "system_prompt = \"\"\"You are a creative copywriter.\n",
    "You're given a category of game asset, \\\n",
    "and your goal is to design a name of that asset.\n",
    "Tje game is set in a fantasy world, where everyone \\\n",
    "laughs and respects each other, whilst celebrating \\\n",
    "diversity and inclusion.\"\"\""
   ],
   "id": "5bb0e58cb8833074",
   "outputs": [],
   "execution_count": 14
  },
  {
   "metadata": {
    "ExecuteTime": {
     "end_time": "2024-04-30T15:57:03.100199Z",
     "start_time": "2024-04-30T15:57:03.097342Z"
    }
   },
   "cell_type": "code",
   "source": [
    "columns = [\n",
    "    \"system_prompt\",\n",
    "    \"user_prompt\",\n",
    "    \"generations\",\n",
    "    \"elapsed_time\",\n",
    "    \"timestamp\",\n",
    "    \"model\",\n",
    "    \"prompt_tokens\",\n",
    "    \"completion_tokens\",\n",
    "    \"total_tokens\"\n",
    "]\n",
    "table = wandb.Table(columns=columns)"
   ],
   "id": "dd3d4d569481a2d9",
   "outputs": [],
   "execution_count": 15
  },
  {
   "metadata": {
    "ExecuteTime": {
     "end_time": "2024-04-30T15:58:43.050962Z",
     "start_time": "2024-04-30T15:58:43.028163Z"
    }
   },
   "cell_type": "code",
   "source": [
    "user_prompt = 'hero'\n",
    "generate_and_print(system_prompt, user_prompt, table)"
   ],
   "id": "271e3404fe3a4ce4",
   "outputs": [
    {
     "name": "stdout",
     "output_type": "stream",
     "text": [
      "<coroutine object AsyncCompletions.create at 0x128b698c0>\n"
     ]
    },
    {
     "name": "stderr",
     "output_type": "stream",
     "text": [
      "/Users/C4040588/.local/share/virtualenvs/CEVIN-Sr8BrHCF/lib/python3.12/site-packages/executing/executing.py:106: RuntimeWarning: coroutine 'AsyncCompletions.create' was never awaited\n",
      "  def only(it):\n",
      "RuntimeWarning: Enable tracemalloc to get the object allocation traceback\n"
     ]
    },
    {
     "ename": "AttributeError",
     "evalue": "'coroutine' object has no attribute 'choices'",
     "output_type": "error",
     "traceback": [
      "\u001B[0;31m---------------------------------------------------------------------------\u001B[0m",
      "\u001B[0;31mAttributeError\u001B[0m                            Traceback (most recent call last)",
      "Cell \u001B[0;32mIn[18], line 2\u001B[0m\n\u001B[1;32m      1\u001B[0m user_prompt \u001B[38;5;241m=\u001B[39m \u001B[38;5;124m'\u001B[39m\u001B[38;5;124mhero\u001B[39m\u001B[38;5;124m'\u001B[39m\n\u001B[0;32m----> 2\u001B[0m \u001B[43mgenerate_and_print\u001B[49m\u001B[43m(\u001B[49m\u001B[43msystem_prompt\u001B[49m\u001B[43m,\u001B[49m\u001B[43m \u001B[49m\u001B[43muser_prompt\u001B[49m\u001B[43m,\u001B[49m\u001B[43m \u001B[49m\u001B[43mtable\u001B[49m\u001B[43m)\u001B[49m\n",
      "Cell \u001B[0;32mIn[17], line 17\u001B[0m, in \u001B[0;36mgenerate_and_print\u001B[0;34m(system_prompt, user_prompt, table, n)\u001B[0m\n\u001B[1;32m     13\u001B[0m elapsed_time \u001B[38;5;241m=\u001B[39m time\u001B[38;5;241m.\u001B[39mtime() \u001B[38;5;241m-\u001B[39m start_time\n\u001B[1;32m     15\u001B[0m \u001B[38;5;28mprint\u001B[39m(responses)\n\u001B[0;32m---> 17\u001B[0m \u001B[38;5;28;01mfor\u001B[39;00m response \u001B[38;5;129;01min\u001B[39;00m \u001B[43mresponses\u001B[49m\u001B[38;5;241;43m.\u001B[39;49m\u001B[43mchoices\u001B[49m:\n\u001B[1;32m     18\u001B[0m     generation \u001B[38;5;241m=\u001B[39m response\u001B[38;5;241m.\u001B[39mmessage\u001B[38;5;241m.\u001B[39mcontent\n\u001B[1;32m     19\u001B[0m     \u001B[38;5;28mprint\u001B[39m(generation)\n",
      "\u001B[0;31mAttributeError\u001B[0m: 'coroutine' object has no attribute 'choices'"
     ]
    }
   ],
   "execution_count": 18
  },
  {
   "metadata": {},
   "cell_type": "code",
   "outputs": [],
   "execution_count": null,
   "source": "",
   "id": "c4b587794f7bfeef"
  }
 ],
 "metadata": {
  "kernelspec": {
   "display_name": "Python 3",
   "language": "python",
   "name": "python3"
  },
  "language_info": {
   "codemirror_mode": {
    "name": "ipython",
    "version": 2
   },
   "file_extension": ".py",
   "mimetype": "text/x-python",
   "name": "python",
   "nbconvert_exporter": "python",
   "pygments_lexer": "ipython2",
   "version": "2.7.6"
  }
 },
 "nbformat": 4,
 "nbformat_minor": 5
}
