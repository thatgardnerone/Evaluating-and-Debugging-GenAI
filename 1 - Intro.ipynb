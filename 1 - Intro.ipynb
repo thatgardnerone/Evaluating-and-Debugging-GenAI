{
 "cells": [
  {
   "metadata": {},
   "cell_type": "markdown",
   "source": [
    "# Intro to W&B\n",
    "This course teaches how to use W&B to track and visualize machine learning experiments. We'll cover the basics of W&B, how to log and visualize metrics, hyperparameters, and artifacts, and how to use W&B to track and compare your models over time."
   ],
   "id": "399618d5483ed0df"
  },
  {
   "metadata": {
    "ExecuteTime": {
     "end_time": "2024-04-30T13:49:39.456189Z",
     "start_time": "2024-04-30T13:49:37.897866Z"
    }
   },
   "cell_type": "code",
   "source": [
    "import math\n",
    "from pathlib import Path\n",
    "from types import SimpleNamespace\n",
    "from tqdm.auto import tqdm\n",
    "import torch\n",
    "import torch.nn as nn\n",
    "import torch.nn.functional as F\n",
    "from torch.optim import Adam\n",
    "from utilities import get_dataloaders\n",
    "\n",
    "import wandb"
   ],
   "id": "51d54252e0da5e02",
   "outputs": [],
   "execution_count": 1
  },
  {
   "metadata": {},
   "cell_type": "markdown",
   "source": [
    "## Sprite Classification\n",
    "We're going to build a model to classify sprites into one of five categories: `hero`, `non-hero`, `food`, `spell` and `side-facing`.\n",
    "We'll use W&B to track our experiments and compare our models.\n",
    "Here is an example of some of the sprites and classes:\n",
    "\n",
    "\n",
    "<img src=\"sprite_sample.png\">"
   ],
   "id": "82c5267e6bed4c11"
  },
  {
   "metadata": {
    "ExecuteTime": {
     "end_time": "2024-04-30T13:49:40.417432Z",
     "start_time": "2024-04-30T13:49:40.415370Z"
    }
   },
   "cell_type": "code",
   "source": [
    "INPUT_SIZE = 3 * 16 * 16\n",
    "OUTPUT_SIZE = 5\n",
    "HIDDEN_SIZE = 256\n",
    "NUM_WORKERS = 2\n",
    "CLASSES = ['hero', 'non-hero', 'food', 'spell', 'side-facing']\n",
    "DATA_DIR = Path('./data/')\n",
    "DEVICE = torch.device('mps')  # Use `mps` macOS Metal Performance Shaders (MPS) for GPU acceleration, `cuda` for CUDA GPUs, or `cpu` for CPU"
   ],
   "id": "5dd7e55ad2fcb2f1",
   "outputs": [],
   "execution_count": 2
  },
  {
   "metadata": {
    "ExecuteTime": {
     "end_time": "2024-04-30T13:49:43.028129Z",
     "start_time": "2024-04-30T13:49:43.025379Z"
    }
   },
   "cell_type": "code",
   "source": [
    "def get_model(dropout):\n",
    "    \"\"\"Simple MLP with Dropout\"\"\"\n",
    "    return nn.Sequential(\n",
    "        nn.Flatten(),\n",
    "        nn.Linear(INPUT_SIZE, HIDDEN_SIZE),\n",
    "        nn.BatchNorm1d(HIDDEN_SIZE),\n",
    "        nn.ReLU(),\n",
    "        nn.Dropout(dropout),\n",
    "        nn.Linear(HIDDEN_SIZE, OUTPUT_SIZE)\n",
    "    ).to(DEVICE)"
   ],
   "id": "e90818ea13b700ac",
   "outputs": [],
   "execution_count": 3
  },
  {
   "metadata": {
    "ExecuteTime": {
     "end_time": "2024-04-30T13:49:43.364945Z",
     "start_time": "2024-04-30T13:49:43.362764Z"
    }
   },
   "cell_type": "code",
   "source": [
    "# Define a config object to store our hyperparameters\n",
    "config = SimpleNamespace(\n",
    "    epochs=2,\n",
    "    batch_size=128,\n",
    "    lr=1e-5,\n",
    "    dropout=0.5,\n",
    "    slice_size=10_000,\n",
    "    valid_pct=0.2,\n",
    ")"
   ],
   "id": "71d7385a6b7c39b6",
   "outputs": [],
   "execution_count": 4
  },
  {
   "metadata": {
    "ExecuteTime": {
     "end_time": "2024-04-30T13:49:44.998791Z",
     "start_time": "2024-04-30T13:49:44.995797Z"
    }
   },
   "cell_type": "code",
   "source": [
    "def train_model(config):\n",
    "    \"\"\"Train a model with a given config\"\"\"\n",
    "\n",
    "    wandb.init(\n",
    "        project=\"dlai_intro\",\n",
    "        config=config,\n",
    "    )\n",
    "\n",
    "    # Get the data\n",
    "    train_dl, valid_dl = get_dataloaders(DATA_DIR,\n",
    "                                         config.batch_size,\n",
    "                                         config.slice_size,\n",
    "                                         config.valid_pct)\n",
    "    n_steps_per_epoch = math.ceil(len(train_dl.dataset) / config.batch_size)\n",
    "\n",
    "    # A simple MLP model\n",
    "    model = get_model(config.dropout)\n",
    "\n",
    "    # Make the loss and optimizer\n",
    "    loss_func = nn.CrossEntropyLoss()\n",
    "    optimizer = Adam(model.parameters(), lr=config.lr)\n",
    "\n",
    "    example_ct = 0\n",
    "\n",
    "    for epoch in tqdm(range(config.epochs), total=config.epochs):\n",
    "        model.train()\n",
    "\n",
    "        for step, (images, labels) in enumerate(train_dl):\n",
    "            images, labels = images.to(DEVICE), labels.to(DEVICE)\n",
    "\n",
    "            outputs = model(images)\n",
    "            train_loss = loss_func(outputs, labels)\n",
    "            optimizer.zero_grad()\n",
    "            train_loss.backward()\n",
    "            optimizer.step()\n",
    "\n",
    "            example_ct += len(images)\n",
    "            metrics = {\n",
    "                \"train/train_loss\": train_loss,\n",
    "                \"train/epoch\": epoch + 1,\n",
    "                \"train/example_ct\": example_ct\n",
    "            }\n",
    "            wandb.log(metrics)\n",
    "\n",
    "        # Compute validation metrics, log images on last epoch\n",
    "        val_loss, accuracy = validate_model(model, valid_dl, loss_func)\n",
    "        # Compute train and validation metrics\n",
    "        val_metrics = {\n",
    "            \"val/val_loss\": val_loss,\n",
    "            \"val/val_accuracy\": accuracy\n",
    "        }\n",
    "        wandb.log(val_metrics)\n",
    "\n",
    "    wandb.finish()"
   ],
   "id": "477c17f1682114c2",
   "outputs": [],
   "execution_count": 5
  },
  {
   "metadata": {
    "ExecuteTime": {
     "end_time": "2024-04-30T13:49:49.602244Z",
     "start_time": "2024-04-30T13:49:49.599109Z"
    }
   },
   "cell_type": "code",
   "source": [
    "def validate_model(model, valid_dl, loss_func):\n",
    "    \"\"\"Compute the performance of the model on the validation dataset\"\"\"\n",
    "    model.eval()\n",
    "    val_loss = 0.0\n",
    "    correct = 0\n",
    "\n",
    "    with torch.inference_mode():\n",
    "        for i, (images, labels) in enumerate(valid_dl):\n",
    "            images, labels = images.to(DEVICE), labels.to(DEVICE)\n",
    "\n",
    "            # Forward pass\n",
    "            outputs = model(images)\n",
    "            val_loss += loss_func(outputs, labels) * labels.size(0)\n",
    "\n",
    "            # Compute accuracy and accumulate\n",
    "            _, predicted = torch.max(outputs.data, 1)\n",
    "            correct += (predicted == labels).sum().item()\n",
    "\n",
    "    return val_loss / len(valid_dl.dataset), correct / len(valid_dl.dataset)\n"
   ],
   "id": "4929e230f01396c1",
   "outputs": [],
   "execution_count": 6
  },
  {
   "metadata": {
    "ExecuteTime": {
     "end_time": "2024-04-30T13:50:25.170057Z",
     "start_time": "2024-04-30T13:49:51.062657Z"
    }
   },
   "cell_type": "code",
   "source": "train_model(config)",
   "id": "3ed7d762678bdee1",
   "outputs": [
    {
     "name": "stderr",
     "output_type": "stream",
     "text": [
      "\u001B[34m\u001B[1mwandb\u001B[0m: Currently logged in as: \u001B[33mthatgardnerone\u001B[0m. Use \u001B[1m`wandb login --relogin`\u001B[0m to force relogin\n"
     ]
    },
    {
     "data": {
      "text/plain": [
       "<IPython.core.display.HTML object>"
      ],
      "text/html": [
       "Tracking run with wandb version 0.16.6"
      ]
     },
     "metadata": {},
     "output_type": "display_data"
    },
    {
     "data": {
      "text/plain": [
       "<IPython.core.display.HTML object>"
      ],
      "text/html": [
       "Run data is saved locally in <code>/Users/C4040588/code/CEVIN/Notebooks/Evaluating and Debugging GenAI/wandb/run-20240430_144952-ez0nclr1</code>"
      ]
     },
     "metadata": {},
     "output_type": "display_data"
    },
    {
     "data": {
      "text/plain": [
       "<IPython.core.display.HTML object>"
      ],
      "text/html": [
       "Syncing run <strong><a href='https://wandb.ai/thatgardnerone/dlai_intro/runs/ez0nclr1' target=\"_blank\">wise-leaf-1</a></strong> to <a href='https://wandb.ai/thatgardnerone/dlai_intro' target=\"_blank\">Weights & Biases</a> (<a href='https://wandb.me/run' target=\"_blank\">docs</a>)<br/>"
      ]
     },
     "metadata": {},
     "output_type": "display_data"
    },
    {
     "data": {
      "text/plain": [
       "<IPython.core.display.HTML object>"
      ],
      "text/html": [
       " View project at <a href='https://wandb.ai/thatgardnerone/dlai_intro' target=\"_blank\">https://wandb.ai/thatgardnerone/dlai_intro</a>"
      ]
     },
     "metadata": {},
     "output_type": "display_data"
    },
    {
     "data": {
      "text/plain": [
       "<IPython.core.display.HTML object>"
      ],
      "text/html": [
       " View run at <a href='https://wandb.ai/thatgardnerone/dlai_intro/runs/ez0nclr1' target=\"_blank\">https://wandb.ai/thatgardnerone/dlai_intro/runs/ez0nclr1</a>"
      ]
     },
     "metadata": {},
     "output_type": "display_data"
    },
    {
     "data": {
      "text/plain": [
       "  0%|          | 0/2 [00:00<?, ?it/s]"
      ],
      "application/vnd.jupyter.widget-view+json": {
       "version_major": 2,
       "version_minor": 0,
       "model_id": "10d24cdd9b2a4f2593c7db4037409796"
      }
     },
     "metadata": {},
     "output_type": "display_data"
    },
    {
     "data": {
      "text/plain": [
       "VBox(children=(Label(value='0.007 MB of 0.007 MB uploaded\\r'), FloatProgress(value=1.0, max=1.0)))"
      ],
      "application/vnd.jupyter.widget-view+json": {
       "version_major": 2,
       "version_minor": 0,
       "model_id": "6baad1c26f0f4bc99645c24b98a0bea4"
      }
     },
     "metadata": {},
     "output_type": "display_data"
    },
    {
     "data": {
      "text/plain": [
       "<IPython.core.display.HTML object>"
      ],
      "text/html": [
       "<style>\n",
       "    table.wandb td:nth-child(1) { padding: 0 10px; text-align: left ; width: auto;} td:nth-child(2) {text-align: left ; width: 100%}\n",
       "    .wandb-row { display: flex; flex-direction: row; flex-wrap: wrap; justify-content: flex-start; width: 100% }\n",
       "    .wandb-col { display: flex; flex-direction: column; flex-basis: 100%; flex: 1; padding: 10px; }\n",
       "    </style>\n",
       "<div class=\"wandb-row\"><div class=\"wandb-col\"><h3>Run history:</h3><br/><table class=\"wandb\"><tr><td>train/epoch</td><td>▁▁▁▁▁▁▁▁▁▁▁▁▁▁▁▁▁▁▁▁████████████████████</td></tr><tr><td>train/example_ct</td><td>▁▁▁▂▂▂▂▂▂▃▃▃▃▃▃▄▄▄▄▄▅▅▅▅▅▅▆▆▆▆▆▇▇▇▇▇▇███</td></tr><tr><td>train/train_loss</td><td>███▇▇▆▆▇▅▆▅▅▅▆▆▆▄▄▄▅▅▄▄▄▄▄▃▃▃▃▃▃▃▃▁▂▂▂▃▂</td></tr><tr><td>val/val_accuracy</td><td>▁█</td></tr><tr><td>val/val_loss</td><td>█▁</td></tr></table><br/></div><div class=\"wandb-col\"><h3>Run summary:</h3><br/><table class=\"wandb\"><tr><td>train/epoch</td><td>2</td></tr><tr><td>train/example_ct</td><td>16000</td></tr><tr><td>train/train_loss</td><td>1.23573</td></tr><tr><td>val/val_accuracy</td><td>0.666</td></tr><tr><td>val/val_loss</td><td>1.20146</td></tr></table><br/></div></div>"
      ]
     },
     "metadata": {},
     "output_type": "display_data"
    },
    {
     "data": {
      "text/plain": [
       "<IPython.core.display.HTML object>"
      ],
      "text/html": [
       " View run <strong style=\"color:#cdcd00\">wise-leaf-1</strong> at: <a href='https://wandb.ai/thatgardnerone/dlai_intro/runs/ez0nclr1' target=\"_blank\">https://wandb.ai/thatgardnerone/dlai_intro/runs/ez0nclr1</a><br/> View project at: <a href='https://wandb.ai/thatgardnerone/dlai_intro' target=\"_blank\">https://wandb.ai/thatgardnerone/dlai_intro</a><br/>Synced 4 W&B file(s), 0 media file(s), 0 artifact file(s) and 0 other file(s)"
      ]
     },
     "metadata": {},
     "output_type": "display_data"
    },
    {
     "data": {
      "text/plain": [
       "<IPython.core.display.HTML object>"
      ],
      "text/html": [
       "Find logs at: <code>./wandb/run-20240430_144952-ez0nclr1/logs</code>"
      ]
     },
     "metadata": {},
     "output_type": "display_data"
    }
   ],
   "execution_count": 7
  },
  {
   "metadata": {
    "ExecuteTime": {
     "end_time": "2024-04-30T13:50:55.980981Z",
     "start_time": "2024-04-30T13:50:25.171353Z"
    }
   },
   "cell_type": "code",
   "source": [
    "# So let's change the learning rate to a 1e-3 \n",
    "# and see how this affects our results.\n",
    "config.lr = 1e-4\n",
    "train_model(config)"
   ],
   "id": "12160eeb729c265c",
   "outputs": [
    {
     "data": {
      "text/plain": [
       "VBox(children=(Label(value='Waiting for wandb.init()...\\r'), FloatProgress(value=0.011166967133289695, max=1.0…"
      ],
      "application/vnd.jupyter.widget-view+json": {
       "version_major": 2,
       "version_minor": 0,
       "model_id": "f0c01c5acf2940389f5133fa807d5ecb"
      }
     },
     "metadata": {},
     "output_type": "display_data"
    },
    {
     "data": {
      "text/plain": [
       "<IPython.core.display.HTML object>"
      ],
      "text/html": [
       "Tracking run with wandb version 0.16.6"
      ]
     },
     "metadata": {},
     "output_type": "display_data"
    },
    {
     "data": {
      "text/plain": [
       "<IPython.core.display.HTML object>"
      ],
      "text/html": [
       "Run data is saved locally in <code>/Users/C4040588/code/CEVIN/Notebooks/Evaluating and Debugging GenAI/wandb/run-20240430_145025-y3o5b2rj</code>"
      ]
     },
     "metadata": {},
     "output_type": "display_data"
    },
    {
     "data": {
      "text/plain": [
       "<IPython.core.display.HTML object>"
      ],
      "text/html": [
       "Syncing run <strong><a href='https://wandb.ai/thatgardnerone/dlai_intro/runs/y3o5b2rj' target=\"_blank\">summer-deluge-2</a></strong> to <a href='https://wandb.ai/thatgardnerone/dlai_intro' target=\"_blank\">Weights & Biases</a> (<a href='https://wandb.me/run' target=\"_blank\">docs</a>)<br/>"
      ]
     },
     "metadata": {},
     "output_type": "display_data"
    },
    {
     "data": {
      "text/plain": [
       "<IPython.core.display.HTML object>"
      ],
      "text/html": [
       " View project at <a href='https://wandb.ai/thatgardnerone/dlai_intro' target=\"_blank\">https://wandb.ai/thatgardnerone/dlai_intro</a>"
      ]
     },
     "metadata": {},
     "output_type": "display_data"
    },
    {
     "data": {
      "text/plain": [
       "<IPython.core.display.HTML object>"
      ],
      "text/html": [
       " View run at <a href='https://wandb.ai/thatgardnerone/dlai_intro/runs/y3o5b2rj' target=\"_blank\">https://wandb.ai/thatgardnerone/dlai_intro/runs/y3o5b2rj</a>"
      ]
     },
     "metadata": {},
     "output_type": "display_data"
    },
    {
     "data": {
      "text/plain": [
       "  0%|          | 0/2 [00:00<?, ?it/s]"
      ],
      "application/vnd.jupyter.widget-view+json": {
       "version_major": 2,
       "version_minor": 0,
       "model_id": "c64fae57230849c494e1ffae4ae285ba"
      }
     },
     "metadata": {},
     "output_type": "display_data"
    },
    {
     "data": {
      "text/plain": [
       "VBox(children=(Label(value='0.007 MB of 0.007 MB uploaded\\r'), FloatProgress(value=1.0, max=1.0)))"
      ],
      "application/vnd.jupyter.widget-view+json": {
       "version_major": 2,
       "version_minor": 0,
       "model_id": "d84d752c605844978ae22f8ef610ebdd"
      }
     },
     "metadata": {},
     "output_type": "display_data"
    },
    {
     "data": {
      "text/plain": [
       "<IPython.core.display.HTML object>"
      ],
      "text/html": [
       "<style>\n",
       "    table.wandb td:nth-child(1) { padding: 0 10px; text-align: left ; width: auto;} td:nth-child(2) {text-align: left ; width: 100%}\n",
       "    .wandb-row { display: flex; flex-direction: row; flex-wrap: wrap; justify-content: flex-start; width: 100% }\n",
       "    .wandb-col { display: flex; flex-direction: column; flex-basis: 100%; flex: 1; padding: 10px; }\n",
       "    </style>\n",
       "<div class=\"wandb-row\"><div class=\"wandb-col\"><h3>Run history:</h3><br/><table class=\"wandb\"><tr><td>train/epoch</td><td>▁▁▁▁▁▁▁▁▁▁▁▁▁▁▁▁▁▁▁▁████████████████████</td></tr><tr><td>train/example_ct</td><td>▁▁▁▂▂▂▂▂▂▃▃▃▃▃▃▄▄▄▄▄▅▅▅▅▅▅▆▆▆▆▆▇▇▇▇▇▇███</td></tr><tr><td>train/train_loss</td><td>██▇▇▆▅▅▄▄▄▄▄▄▄▃▃▃▂▃▂▂▂▂▂▂▂▂▂▂▁▁▂▁▁▁▂▁▁▁▁</td></tr><tr><td>val/val_accuracy</td><td>▁█</td></tr><tr><td>val/val_loss</td><td>█▁</td></tr></table><br/></div><div class=\"wandb-col\"><h3>Run summary:</h3><br/><table class=\"wandb\"><tr><td>train/epoch</td><td>2</td></tr><tr><td>train/example_ct</td><td>16000</td></tr><tr><td>train/train_loss</td><td>0.37025</td></tr><tr><td>val/val_accuracy</td><td>0.9415</td></tr><tr><td>val/val_loss</td><td>0.33149</td></tr></table><br/></div></div>"
      ]
     },
     "metadata": {},
     "output_type": "display_data"
    },
    {
     "data": {
      "text/plain": [
       "<IPython.core.display.HTML object>"
      ],
      "text/html": [
       " View run <strong style=\"color:#cdcd00\">summer-deluge-2</strong> at: <a href='https://wandb.ai/thatgardnerone/dlai_intro/runs/y3o5b2rj' target=\"_blank\">https://wandb.ai/thatgardnerone/dlai_intro/runs/y3o5b2rj</a><br/> View project at: <a href='https://wandb.ai/thatgardnerone/dlai_intro' target=\"_blank\">https://wandb.ai/thatgardnerone/dlai_intro</a><br/>Synced 4 W&B file(s), 0 media file(s), 0 artifact file(s) and 0 other file(s)"
      ]
     },
     "metadata": {},
     "output_type": "display_data"
    },
    {
     "data": {
      "text/plain": [
       "<IPython.core.display.HTML object>"
      ],
      "text/html": [
       "Find logs at: <code>./wandb/run-20240430_145025-y3o5b2rj/logs</code>"
      ]
     },
     "metadata": {},
     "output_type": "display_data"
    }
   ],
   "execution_count": 8
  },
  {
   "metadata": {
    "ExecuteTime": {
     "end_time": "2024-04-30T13:51:26.810896Z",
     "start_time": "2024-04-30T13:50:55.981878Z"
    }
   },
   "cell_type": "code",
   "source": [
    "config.lr = 1e-4\n",
    "train_model(config)"
   ],
   "id": "2ec5df998d98100f",
   "outputs": [
    {
     "data": {
      "text/plain": [
       "VBox(children=(Label(value='Waiting for wandb.init()...\\r'), FloatProgress(value=0.011125712500021716, max=1.0…"
      ],
      "application/vnd.jupyter.widget-view+json": {
       "version_major": 2,
       "version_minor": 0,
       "model_id": "170101bc4cf9447daa5d9bcb0e35f58d"
      }
     },
     "metadata": {},
     "output_type": "display_data"
    },
    {
     "data": {
      "text/plain": [
       "<IPython.core.display.HTML object>"
      ],
      "text/html": [
       "Tracking run with wandb version 0.16.6"
      ]
     },
     "metadata": {},
     "output_type": "display_data"
    },
    {
     "data": {
      "text/plain": [
       "<IPython.core.display.HTML object>"
      ],
      "text/html": [
       "Run data is saved locally in <code>/Users/C4040588/code/CEVIN/Notebooks/Evaluating and Debugging GenAI/wandb/run-20240430_145055-yrqru359</code>"
      ]
     },
     "metadata": {},
     "output_type": "display_data"
    },
    {
     "data": {
      "text/plain": [
       "<IPython.core.display.HTML object>"
      ],
      "text/html": [
       "Syncing run <strong><a href='https://wandb.ai/thatgardnerone/dlai_intro/runs/yrqru359' target=\"_blank\">dark-grass-3</a></strong> to <a href='https://wandb.ai/thatgardnerone/dlai_intro' target=\"_blank\">Weights & Biases</a> (<a href='https://wandb.me/run' target=\"_blank\">docs</a>)<br/>"
      ]
     },
     "metadata": {},
     "output_type": "display_data"
    },
    {
     "data": {
      "text/plain": [
       "<IPython.core.display.HTML object>"
      ],
      "text/html": [
       " View project at <a href='https://wandb.ai/thatgardnerone/dlai_intro' target=\"_blank\">https://wandb.ai/thatgardnerone/dlai_intro</a>"
      ]
     },
     "metadata": {},
     "output_type": "display_data"
    },
    {
     "data": {
      "text/plain": [
       "<IPython.core.display.HTML object>"
      ],
      "text/html": [
       " View run at <a href='https://wandb.ai/thatgardnerone/dlai_intro/runs/yrqru359' target=\"_blank\">https://wandb.ai/thatgardnerone/dlai_intro/runs/yrqru359</a>"
      ]
     },
     "metadata": {},
     "output_type": "display_data"
    },
    {
     "data": {
      "text/plain": [
       "  0%|          | 0/2 [00:00<?, ?it/s]"
      ],
      "application/vnd.jupyter.widget-view+json": {
       "version_major": 2,
       "version_minor": 0,
       "model_id": "d0333a536ec043268d36042de6cba0e0"
      }
     },
     "metadata": {},
     "output_type": "display_data"
    },
    {
     "data": {
      "text/plain": [
       "VBox(children=(Label(value='0.001 MB of 0.006 MB uploaded\\r'), FloatProgress(value=0.15489210759680758, max=1.…"
      ],
      "application/vnd.jupyter.widget-view+json": {
       "version_major": 2,
       "version_minor": 0,
       "model_id": "cf01aafe4162464b8f71d5eccbec5100"
      }
     },
     "metadata": {},
     "output_type": "display_data"
    },
    {
     "data": {
      "text/plain": [
       "<IPython.core.display.HTML object>"
      ],
      "text/html": [
       "<style>\n",
       "    table.wandb td:nth-child(1) { padding: 0 10px; text-align: left ; width: auto;} td:nth-child(2) {text-align: left ; width: 100%}\n",
       "    .wandb-row { display: flex; flex-direction: row; flex-wrap: wrap; justify-content: flex-start; width: 100% }\n",
       "    .wandb-col { display: flex; flex-direction: column; flex-basis: 100%; flex: 1; padding: 10px; }\n",
       "    </style>\n",
       "<div class=\"wandb-row\"><div class=\"wandb-col\"><h3>Run history:</h3><br/><table class=\"wandb\"><tr><td>train/epoch</td><td>▁▁▁▁▁▁▁▁▁▁▁▁▁▁▁▁▁▁▁▁████████████████████</td></tr><tr><td>train/example_ct</td><td>▁▁▁▂▂▂▂▂▂▃▃▃▃▃▃▄▄▄▄▄▅▅▅▅▅▅▆▆▆▆▆▇▇▇▇▇▇███</td></tr><tr><td>train/train_loss</td><td>█▇▇▆▆▅▅▅▄▄▃▄▄▃▂▃▃▃▂▃▂▂▂▂▂▁▂▂▂▁▁▂▁▁▂▁▂▁▁▁</td></tr><tr><td>val/val_accuracy</td><td>▁█</td></tr><tr><td>val/val_loss</td><td>█▁</td></tr></table><br/></div><div class=\"wandb-col\"><h3>Run summary:</h3><br/><table class=\"wandb\"><tr><td>train/epoch</td><td>2</td></tr><tr><td>train/example_ct</td><td>16000</td></tr><tr><td>train/train_loss</td><td>0.35855</td></tr><tr><td>val/val_accuracy</td><td>0.944</td></tr><tr><td>val/val_loss</td><td>0.34253</td></tr></table><br/></div></div>"
      ]
     },
     "metadata": {},
     "output_type": "display_data"
    },
    {
     "data": {
      "text/plain": [
       "<IPython.core.display.HTML object>"
      ],
      "text/html": [
       " View run <strong style=\"color:#cdcd00\">dark-grass-3</strong> at: <a href='https://wandb.ai/thatgardnerone/dlai_intro/runs/yrqru359' target=\"_blank\">https://wandb.ai/thatgardnerone/dlai_intro/runs/yrqru359</a><br/> View project at: <a href='https://wandb.ai/thatgardnerone/dlai_intro' target=\"_blank\">https://wandb.ai/thatgardnerone/dlai_intro</a><br/>Synced 4 W&B file(s), 0 media file(s), 0 artifact file(s) and 0 other file(s)"
      ]
     },
     "metadata": {},
     "output_type": "display_data"
    },
    {
     "data": {
      "text/plain": [
       "<IPython.core.display.HTML object>"
      ],
      "text/html": [
       "Find logs at: <code>./wandb/run-20240430_145055-yrqru359/logs</code>"
      ]
     },
     "metadata": {},
     "output_type": "display_data"
    }
   ],
   "execution_count": 9
  },
  {
   "metadata": {
    "ExecuteTime": {
     "end_time": "2024-04-30T13:51:45.600135Z",
     "start_time": "2024-04-30T13:51:26.813187Z"
    }
   },
   "cell_type": "code",
   "source": [
    "config.dropout = 0.1\n",
    "config.epochs = 1\n",
    "train_model(config)"
   ],
   "id": "b1fcb8a31b0d61b3",
   "outputs": [
    {
     "data": {
      "text/plain": [
       "VBox(children=(Label(value='Waiting for wandb.init()...\\r'), FloatProgress(value=0.011167267133310411, max=1.0…"
      ],
      "application/vnd.jupyter.widget-view+json": {
       "version_major": 2,
       "version_minor": 0,
       "model_id": "eda5a653fd6f4578abccf298f91f1159"
      }
     },
     "metadata": {},
     "output_type": "display_data"
    },
    {
     "data": {
      "text/plain": [
       "<IPython.core.display.HTML object>"
      ],
      "text/html": [
       "Tracking run with wandb version 0.16.6"
      ]
     },
     "metadata": {},
     "output_type": "display_data"
    },
    {
     "data": {
      "text/plain": [
       "<IPython.core.display.HTML object>"
      ],
      "text/html": [
       "Run data is saved locally in <code>/Users/C4040588/code/CEVIN/Notebooks/Evaluating and Debugging GenAI/wandb/run-20240430_145126-i7ikuac2</code>"
      ]
     },
     "metadata": {},
     "output_type": "display_data"
    },
    {
     "data": {
      "text/plain": [
       "<IPython.core.display.HTML object>"
      ],
      "text/html": [
       "Syncing run <strong><a href='https://wandb.ai/thatgardnerone/dlai_intro/runs/i7ikuac2' target=\"_blank\">smart-wave-4</a></strong> to <a href='https://wandb.ai/thatgardnerone/dlai_intro' target=\"_blank\">Weights & Biases</a> (<a href='https://wandb.me/run' target=\"_blank\">docs</a>)<br/>"
      ]
     },
     "metadata": {},
     "output_type": "display_data"
    },
    {
     "data": {
      "text/plain": [
       "<IPython.core.display.HTML object>"
      ],
      "text/html": [
       " View project at <a href='https://wandb.ai/thatgardnerone/dlai_intro' target=\"_blank\">https://wandb.ai/thatgardnerone/dlai_intro</a>"
      ]
     },
     "metadata": {},
     "output_type": "display_data"
    },
    {
     "data": {
      "text/plain": [
       "<IPython.core.display.HTML object>"
      ],
      "text/html": [
       " View run at <a href='https://wandb.ai/thatgardnerone/dlai_intro/runs/i7ikuac2' target=\"_blank\">https://wandb.ai/thatgardnerone/dlai_intro/runs/i7ikuac2</a>"
      ]
     },
     "metadata": {},
     "output_type": "display_data"
    },
    {
     "data": {
      "text/plain": [
       "  0%|          | 0/1 [00:00<?, ?it/s]"
      ],
      "application/vnd.jupyter.widget-view+json": {
       "version_major": 2,
       "version_minor": 0,
       "model_id": "06e5a6453ecc4e6f98f2025d9bd46b49"
      }
     },
     "metadata": {},
     "output_type": "display_data"
    },
    {
     "data": {
      "text/plain": [
       "VBox(children=(Label(value='0.001 MB of 0.001 MB uploaded\\r'), FloatProgress(value=1.0, max=1.0)))"
      ],
      "application/vnd.jupyter.widget-view+json": {
       "version_major": 2,
       "version_minor": 0,
       "model_id": "12bd0430d5f64845a185a689cd28a073"
      }
     },
     "metadata": {},
     "output_type": "display_data"
    },
    {
     "data": {
      "text/plain": [
       "<IPython.core.display.HTML object>"
      ],
      "text/html": [
       "<style>\n",
       "    table.wandb td:nth-child(1) { padding: 0 10px; text-align: left ; width: auto;} td:nth-child(2) {text-align: left ; width: 100%}\n",
       "    .wandb-row { display: flex; flex-direction: row; flex-wrap: wrap; justify-content: flex-start; width: 100% }\n",
       "    .wandb-col { display: flex; flex-direction: column; flex-basis: 100%; flex: 1; padding: 10px; }\n",
       "    </style>\n",
       "<div class=\"wandb-row\"><div class=\"wandb-col\"><h3>Run history:</h3><br/><table class=\"wandb\"><tr><td>train/epoch</td><td>▁▁▁▁▁▁▁▁▁▁▁▁▁▁▁▁▁▁▁▁▁▁▁▁▁▁▁▁▁▁▁▁▁▁▁▁▁▁▁▁</td></tr><tr><td>train/example_ct</td><td>▁▁▁▁▂▂▂▂▂▃▃▃▃▃▄▄▄▄▄▄▅▅▅▅▅▅▆▆▆▆▆▇▇▇▇▇████</td></tr><tr><td>train/train_loss</td><td>███▇▇▇▆▆▆▅▅▅▄▄▄▄▄▃▃▃▃▃▂▂▂▂▂▂▂▂▂▂▂▂▁▂▂▁▁▁</td></tr><tr><td>val/val_accuracy</td><td>▁</td></tr><tr><td>val/val_loss</td><td>▁</td></tr></table><br/></div><div class=\"wandb-col\"><h3>Run summary:</h3><br/><table class=\"wandb\"><tr><td>train/epoch</td><td>1</td></tr><tr><td>train/example_ct</td><td>8000</td></tr><tr><td>train/train_loss</td><td>0.55202</td></tr><tr><td>val/val_accuracy</td><td>0.9155</td></tr><tr><td>val/val_loss</td><td>0.49286</td></tr></table><br/></div></div>"
      ]
     },
     "metadata": {},
     "output_type": "display_data"
    },
    {
     "data": {
      "text/plain": [
       "<IPython.core.display.HTML object>"
      ],
      "text/html": [
       " View run <strong style=\"color:#cdcd00\">smart-wave-4</strong> at: <a href='https://wandb.ai/thatgardnerone/dlai_intro/runs/i7ikuac2' target=\"_blank\">https://wandb.ai/thatgardnerone/dlai_intro/runs/i7ikuac2</a><br/> View project at: <a href='https://wandb.ai/thatgardnerone/dlai_intro' target=\"_blank\">https://wandb.ai/thatgardnerone/dlai_intro</a><br/>Synced 4 W&B file(s), 0 media file(s), 0 artifact file(s) and 0 other file(s)"
      ]
     },
     "metadata": {},
     "output_type": "display_data"
    },
    {
     "data": {
      "text/plain": [
       "<IPython.core.display.HTML object>"
      ],
      "text/html": [
       "Find logs at: <code>./wandb/run-20240430_145126-i7ikuac2/logs</code>"
      ]
     },
     "metadata": {},
     "output_type": "display_data"
    }
   ],
   "execution_count": 10
  },
  {
   "metadata": {
    "ExecuteTime": {
     "end_time": "2024-04-30T13:52:04.815411Z",
     "start_time": "2024-04-30T13:51:45.601128Z"
    }
   },
   "cell_type": "code",
   "source": [
    "config.lr = 1e-3\n",
    "train_model(config)"
   ],
   "id": "9c7d60769c39d2ea",
   "outputs": [
    {
     "data": {
      "text/plain": [
       "VBox(children=(Label(value='Waiting for wandb.init()...\\r'), FloatProgress(value=0.011167293522238551, max=1.0…"
      ],
      "application/vnd.jupyter.widget-view+json": {
       "version_major": 2,
       "version_minor": 0,
       "model_id": "9918903704ee4922b96f1f6dd514c2d5"
      }
     },
     "metadata": {},
     "output_type": "display_data"
    },
    {
     "data": {
      "text/plain": [
       "<IPython.core.display.HTML object>"
      ],
      "text/html": [
       "Tracking run with wandb version 0.16.6"
      ]
     },
     "metadata": {},
     "output_type": "display_data"
    },
    {
     "data": {
      "text/plain": [
       "<IPython.core.display.HTML object>"
      ],
      "text/html": [
       "Run data is saved locally in <code>/Users/C4040588/code/CEVIN/Notebooks/Evaluating and Debugging GenAI/wandb/run-20240430_145145-agiwcoig</code>"
      ]
     },
     "metadata": {},
     "output_type": "display_data"
    },
    {
     "data": {
      "text/plain": [
       "<IPython.core.display.HTML object>"
      ],
      "text/html": [
       "Syncing run <strong><a href='https://wandb.ai/thatgardnerone/dlai_intro/runs/agiwcoig' target=\"_blank\">glamorous-cosmos-5</a></strong> to <a href='https://wandb.ai/thatgardnerone/dlai_intro' target=\"_blank\">Weights & Biases</a> (<a href='https://wandb.me/run' target=\"_blank\">docs</a>)<br/>"
      ]
     },
     "metadata": {},
     "output_type": "display_data"
    },
    {
     "data": {
      "text/plain": [
       "<IPython.core.display.HTML object>"
      ],
      "text/html": [
       " View project at <a href='https://wandb.ai/thatgardnerone/dlai_intro' target=\"_blank\">https://wandb.ai/thatgardnerone/dlai_intro</a>"
      ]
     },
     "metadata": {},
     "output_type": "display_data"
    },
    {
     "data": {
      "text/plain": [
       "<IPython.core.display.HTML object>"
      ],
      "text/html": [
       " View run at <a href='https://wandb.ai/thatgardnerone/dlai_intro/runs/agiwcoig' target=\"_blank\">https://wandb.ai/thatgardnerone/dlai_intro/runs/agiwcoig</a>"
      ]
     },
     "metadata": {},
     "output_type": "display_data"
    },
    {
     "data": {
      "text/plain": [
       "  0%|          | 0/1 [00:00<?, ?it/s]"
      ],
      "application/vnd.jupyter.widget-view+json": {
       "version_major": 2,
       "version_minor": 0,
       "model_id": "c62e601d75f440bcb8ed53c42b8efd72"
      }
     },
     "metadata": {},
     "output_type": "display_data"
    },
    {
     "data": {
      "text/plain": [
       "VBox(children=(Label(value='0.001 MB of 0.007 MB uploaded\\r'), FloatProgress(value=0.1492877492877493, max=1.0…"
      ],
      "application/vnd.jupyter.widget-view+json": {
       "version_major": 2,
       "version_minor": 0,
       "model_id": "d13e4e5b48b440a7980789406fb8a8f1"
      }
     },
     "metadata": {},
     "output_type": "display_data"
    },
    {
     "data": {
      "text/plain": [
       "<IPython.core.display.HTML object>"
      ],
      "text/html": [
       "<style>\n",
       "    table.wandb td:nth-child(1) { padding: 0 10px; text-align: left ; width: auto;} td:nth-child(2) {text-align: left ; width: 100%}\n",
       "    .wandb-row { display: flex; flex-direction: row; flex-wrap: wrap; justify-content: flex-start; width: 100% }\n",
       "    .wandb-col { display: flex; flex-direction: column; flex-basis: 100%; flex: 1; padding: 10px; }\n",
       "    </style>\n",
       "<div class=\"wandb-row\"><div class=\"wandb-col\"><h3>Run history:</h3><br/><table class=\"wandb\"><tr><td>train/epoch</td><td>▁▁▁▁▁▁▁▁▁▁▁▁▁▁▁▁▁▁▁▁▁▁▁▁▁▁▁▁▁▁▁▁▁▁▁▁▁▁▁▁</td></tr><tr><td>train/example_ct</td><td>▁▁▁▁▂▂▂▂▂▃▃▃▃▃▄▄▄▄▄▄▅▅▅▅▅▅▆▆▆▆▆▇▇▇▇▇████</td></tr><tr><td>train/train_loss</td><td>█▆▅▄▃▃▃▂▃▂▂▂▂▂▂▂▂▂▂▁▁▁▂▁▁▁▁▁▁▁▁▁▁▁▁▁▁▁▁▁</td></tr><tr><td>val/val_accuracy</td><td>▁</td></tr><tr><td>val/val_loss</td><td>▁</td></tr></table><br/></div><div class=\"wandb-col\"><h3>Run summary:</h3><br/><table class=\"wandb\"><tr><td>train/epoch</td><td>1</td></tr><tr><td>train/example_ct</td><td>8000</td></tr><tr><td>train/train_loss</td><td>0.09373</td></tr><tr><td>val/val_accuracy</td><td>0.9845</td></tr><tr><td>val/val_loss</td><td>0.0695</td></tr></table><br/></div></div>"
      ]
     },
     "metadata": {},
     "output_type": "display_data"
    },
    {
     "data": {
      "text/plain": [
       "<IPython.core.display.HTML object>"
      ],
      "text/html": [
       " View run <strong style=\"color:#cdcd00\">glamorous-cosmos-5</strong> at: <a href='https://wandb.ai/thatgardnerone/dlai_intro/runs/agiwcoig' target=\"_blank\">https://wandb.ai/thatgardnerone/dlai_intro/runs/agiwcoig</a><br/> View project at: <a href='https://wandb.ai/thatgardnerone/dlai_intro' target=\"_blank\">https://wandb.ai/thatgardnerone/dlai_intro</a><br/>Synced 4 W&B file(s), 0 media file(s), 0 artifact file(s) and 0 other file(s)"
      ]
     },
     "metadata": {},
     "output_type": "display_data"
    },
    {
     "data": {
      "text/plain": [
       "<IPython.core.display.HTML object>"
      ],
      "text/html": [
       "Find logs at: <code>./wandb/run-20240430_145145-agiwcoig/logs</code>"
      ]
     },
     "metadata": {},
     "output_type": "display_data"
    }
   ],
   "execution_count": 11
  },
  {
   "metadata": {},
   "cell_type": "code",
   "outputs": [],
   "execution_count": null,
   "source": "",
   "id": "b3feff5961bbf1d9"
  }
 ],
 "metadata": {
  "kernelspec": {
   "display_name": "Python 3",
   "language": "python",
   "name": "python3"
  },
  "language_info": {
   "codemirror_mode": {
    "name": "ipython",
    "version": 2
   },
   "file_extension": ".py",
   "mimetype": "text/x-python",
   "name": "python",
   "nbconvert_exporter": "python",
   "pygments_lexer": "ipython2",
   "version": "2.7.6"
  }
 },
 "nbformat": 4,
 "nbformat_minor": 5
}
