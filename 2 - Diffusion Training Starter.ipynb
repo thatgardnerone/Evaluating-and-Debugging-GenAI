{
 "cells": [
  {
   "metadata": {},
   "cell_type": "markdown",
   "source": [
    "# Instrument the training of a diffusion model with weights and biases\n",
    "(There's a full course on DLAI on diffusion models)"
   ],
   "id": "5d9e5d131db4d4d8"
  },
  {
   "metadata": {
    "ExecuteTime": {
     "end_time": "2024-04-30T14:26:34.840882Z",
     "start_time": "2024-04-30T14:26:34.838105Z"
    }
   },
   "cell_type": "code",
   "source": [
    "from types import SimpleNamespace\n",
    "from pathlib import Path\n",
    "from tqdm.notebook import tqdm\n",
    "import torch\n",
    "import torch.nn.functional as F\n",
    "from torch.utils.data import DataLoader\n",
    "import numpy as np\n",
    "from utilities import *\n",
    "\n",
    "import wandb"
   ],
   "id": "7f99abe57ed7f61a",
   "outputs": [],
   "execution_count": 11
  },
  {
   "metadata": {
    "ExecuteTime": {
     "end_time": "2024-04-30T14:04:14.644875Z",
     "start_time": "2024-04-30T14:04:13.481294Z"
    }
   },
   "cell_type": "code",
   "source": "wandb.login()",
   "id": "187408b20f8fd0c8",
   "outputs": [
    {
     "name": "stderr",
     "output_type": "stream",
     "text": [
      "\u001B[34m\u001B[1mwandb\u001B[0m: Currently logged in as: \u001B[33mthatgardnerone\u001B[0m. Use \u001B[1m`wandb login --relogin`\u001B[0m to force relogin\n"
     ]
    },
    {
     "data": {
      "text/plain": [
       "True"
      ]
     },
     "execution_count": 2,
     "metadata": {},
     "output_type": "execute_result"
    }
   ],
   "execution_count": 2
  },
  {
   "metadata": {},
   "cell_type": "markdown",
   "source": "## Setup",
   "id": "908ef45e0efa6b70"
  },
  {
   "metadata": {
    "ExecuteTime": {
     "end_time": "2024-04-30T14:12:32.127920Z",
     "start_time": "2024-04-30T14:12:32.124694Z"
    }
   },
   "cell_type": "code",
   "source": [
    "DATA_DIR = Path(\"data\")\n",
    "SAVE_DIR = Path(\"data/weights\")\n",
    "SAVE_DIR.mkdir(exist_ok=True, parents=True)\n",
    "DEVICE = \"mps\"  # \"cuda\" for Nvidia GPU, \"mps\" for Apple Silicon GPU, \"cpu\" for CPU\n",
    "\n",
    "config = SimpleNamespace(\n",
    "    # Hyperparameters\n",
    "    num_samples=30,\n",
    "\n",
    "    # Diffusion hyperparameters\n",
    "    timesteps=500,\n",
    "    beta1=1e-4,\n",
    "    beta2=0.02,\n",
    "\n",
    "    # Network hyperparameters\n",
    "    n_feat=64,  # hidden dimension features\n",
    "    n_cfeat=5,  # context vector size\n",
    "    height=16,  # image size\n",
    "\n",
    "    # Training hyperparameters\n",
    "    batch_size=100,\n",
    "    n_epoch=32,\n",
    "    lrate=1e-3,\n",
    ")"
   ],
   "id": "64a8bb51a136ac9e",
   "outputs": [],
   "execution_count": 3
  },
  {
   "metadata": {},
   "cell_type": "markdown",
   "source": "### Set up noise scheduler and sampler",
   "id": "357ad894b11980b9"
  },
  {
   "metadata": {
    "ExecuteTime": {
     "end_time": "2024-04-30T14:14:50.776874Z",
     "start_time": "2024-04-30T14:14:49.538165Z"
    }
   },
   "cell_type": "code",
   "source": [
    "# perturb_input adds noise to the input image\n",
    "# sample_ddpm_context generates images using the ddpm sampler\n",
    "perturb_input, sample_ddpm_context = setup_ddpm(\n",
    "    config.beta1,\n",
    "    config.beta2,\n",
    "    config.timesteps,\n",
    "    DEVICE,\n",
    ")"
   ],
   "id": "a34331133450d18a",
   "outputs": [],
   "execution_count": 5
  },
  {
   "metadata": {
    "ExecuteTime": {
     "end_time": "2024-04-30T14:15:23.771198Z",
     "start_time": "2024-04-30T14:15:23.717456Z"
    }
   },
   "cell_type": "code",
   "source": [
    "nn_model = ContextUnet(\n",
    "    in_channels=3,\n",
    "    n_feat=config.n_feat,\n",
    "    n_cfeat=config.n_cfeat,\n",
    "    height=config.height,\n",
    ").to(DEVICE)"
   ],
   "id": "44872abb48c2c6fd",
   "outputs": [],
   "execution_count": 6
  },
  {
   "metadata": {
    "ExecuteTime": {
     "end_time": "2024-04-30T14:16:19.074071Z",
     "start_time": "2024-04-30T14:16:19.056544Z"
    }
   },
   "cell_type": "code",
   "source": [
    "dataset = CustomDataset.from_np(path=DATA_DIR)\n",
    "dataloader = DataLoader(\n",
    "    dataset,\n",
    "    batch_size=config.batch_size,\n",
    "    shuffle=True,\n",
    ")\n",
    "optim = torch.optim.Adam(nn_model.parameters(), lr=config.lrate)"
   ],
   "id": "72cb238a95b7e156",
   "outputs": [],
   "execution_count": 7
  },
  {
   "metadata": {},
   "cell_type": "markdown",
   "source": "## Training",
   "id": "5902c9197f80cbb0"
  },
  {
   "metadata": {
    "ExecuteTime": {
     "end_time": "2024-04-30T14:18:33.878455Z",
     "start_time": "2024-04-30T14:18:33.870944Z"
    }
   },
   "cell_type": "code",
   "source": [
    "# Noise vector\n",
    "# x_T ~ N(0, 1), sample initial noise\n",
    "noises = torch.randn(\n",
    "    config.num_samples,\n",
    "    3,\n",
    "    config.height,\n",
    "    config.height,  # square image\n",
    ").to(DEVICE)"
   ],
   "id": "c5e5d142de60d08b",
   "outputs": [],
   "execution_count": 8
  },
  {
   "metadata": {
    "ExecuteTime": {
     "end_time": "2024-04-30T14:20:27.758892Z",
     "start_time": "2024-04-30T14:20:27.717158Z"
    }
   },
   "cell_type": "code",
   "source": [
    "ctx_vector = F.one_hot(\n",
    "    torch.tensor([\n",
    "        0, 0, 0, 0, 0, 0,  # hero\n",
    "        1, 1, 1, 1, 1, 1,  # non-hero\n",
    "        2, 2, 2, 2, 2, 2,  # food\n",
    "        3, 3, 3, 3, 3, 3,  # spell\n",
    "        4, 4, 4, 4, 4, 4,  # side-facing\n",
    "    ]),\n",
    "    5\n",
    ").to(DEVICE).float()"
   ],
   "id": "827cd60a68de57f",
   "outputs": [],
   "execution_count": 9
  },
  {
   "metadata": {
    "ExecuteTime": {
     "end_time": "2024-04-30T14:57:54.565767Z",
     "start_time": "2024-04-30T14:39:26.125916Z"
    }
   },
   "cell_type": "code",
   "source": [
    "# Create a W&B run\n",
    "run = wandb.init(\n",
    "    project=\"dlai_sprite_diffusion\",\n",
    "    job_type=\"train\",\n",
    "    config=config\n",
    ")\n",
    "\n",
    "# Pass the config back from W&B\n",
    "config = wandb.config\n",
    "\n",
    "# Warning: Training is very slow on CPU (but we've set our device to MPS)\n",
    "for epoch in tqdm(range(config.n_epoch), leave=True, total=config.n_epoch):\n",
    "    # Set into training mode\n",
    "    nn_model.train()\n",
    "    optim.param_groups[0][\"lr\"] = config.lrate * (1 - epoch / config.n_epoch)\n",
    "\n",
    "    pbar = tqdm(dataloader, leave=False)\n",
    "    for x, c in pbar:\n",
    "        optim.zero_grad()  # zero the gradients\n",
    "        x = x.to(DEVICE)\n",
    "        c = c.to(DEVICE)\n",
    "        context_mask = torch.bernoulli(torch.zeros(c.shape[0]) + 0.8).to(DEVICE)\n",
    "        c = c * context_mask.unsqueeze(-1)\n",
    "        noise = torch.randn_like(x)\n",
    "        t = torch.randint(1, config.timesteps + 1, (x.shape[0],)).to(DEVICE)\n",
    "        x_pert = perturb_input(x, t, noise)\n",
    "        pred_noise = nn_model(x_pert, t / config.timesteps, c=c)\n",
    "        loss = F.mse_loss(pred_noise, noise)\n",
    "        loss.backward()\n",
    "        optim.step()\n",
    "\n",
    "        wandb.log({\n",
    "            \"loss\": loss.item(),\n",
    "            \"lr\": optim.param_groups[0][\"lr\"],\n",
    "            \"epoch\": epoch,\n",
    "        })\n",
    "        \n",
    "    # Save the model periodically\n",
    "    if epoch % 4 == 0 or epoch == config.n_epoch - 1:\n",
    "        nn_model.eval()\n",
    "        ckpt_file = SAVE_DIR / f\"model_{epoch}.pth\"\n",
    "        torch.save(nn_model.state_dict(), ckpt_file)\n",
    "        \n",
    "        artifact_name = f\"{wandb.run.id}_model_{epoch}\"\n",
    "        artifact = wandb.Artifact(artifact_name, type=\"model\")\n",
    "        artifact.add_file(ckpt_file)\n",
    "        wandb.log_artifact(artifact)\n",
    "        \n",
    "        samples, _ = sample_ddpm_context(\n",
    "            nn_model,\n",
    "            noises,\n",
    "            ctx_vector[:config.num_samples],\n",
    "        )\n",
    "        \n",
    "        wandb.log({\n",
    "            \"train_samples\": [\n",
    "                wandb.Image(img) for img in samples.split(1)\n",
    "            ]\n",
    "        })\n",
    "        \n",
    "# Finish the run\n",
    "wandb.finish()"
   ],
   "id": "5def71a63b545c30",
   "outputs": [
    {
     "data": {
      "text/plain": [
       "<IPython.core.display.HTML object>"
      ],
      "text/html": [
       "Tracking run with wandb version 0.16.6"
      ]
     },
     "metadata": {},
     "output_type": "display_data"
    },
    {
     "data": {
      "text/plain": [
       "<IPython.core.display.HTML object>"
      ],
      "text/html": [
       "Run data is saved locally in <code>/Users/C4040588/code/CEVIN/Notebooks/Evaluating and Debugging GenAI/wandb/run-20240430_153926-o43de18t</code>"
      ]
     },
     "metadata": {},
     "output_type": "display_data"
    },
    {
     "data": {
      "text/plain": [
       "<IPython.core.display.HTML object>"
      ],
      "text/html": [
       "Syncing run <strong><a href='https://wandb.ai/thatgardnerone/dlai_sprite_diffusion/runs/o43de18t' target=\"_blank\">soft-firefly-1</a></strong> to <a href='https://wandb.ai/thatgardnerone/dlai_sprite_diffusion' target=\"_blank\">Weights & Biases</a> (<a href='https://wandb.me/run' target=\"_blank\">docs</a>)<br/>"
      ]
     },
     "metadata": {},
     "output_type": "display_data"
    },
    {
     "data": {
      "text/plain": [
       "<IPython.core.display.HTML object>"
      ],
      "text/html": [
       " View project at <a href='https://wandb.ai/thatgardnerone/dlai_sprite_diffusion' target=\"_blank\">https://wandb.ai/thatgardnerone/dlai_sprite_diffusion</a>"
      ]
     },
     "metadata": {},
     "output_type": "display_data"
    },
    {
     "data": {
      "text/plain": [
       "<IPython.core.display.HTML object>"
      ],
      "text/html": [
       " View run at <a href='https://wandb.ai/thatgardnerone/dlai_sprite_diffusion/runs/o43de18t' target=\"_blank\">https://wandb.ai/thatgardnerone/dlai_sprite_diffusion/runs/o43de18t</a>"
      ]
     },
     "metadata": {},
     "output_type": "display_data"
    },
    {
     "data": {
      "text/plain": [
       "  0%|          | 0/32 [00:00<?, ?it/s]"
      ],
      "application/vnd.jupyter.widget-view+json": {
       "version_major": 2,
       "version_minor": 0,
       "model_id": "b40fc3bbbb404210bbe1f9f8e57bda14"
      }
     },
     "metadata": {},
     "output_type": "display_data"
    },
    {
     "data": {
      "text/plain": [
       "  0%|          | 0/894 [00:00<?, ?it/s]"
      ],
      "application/vnd.jupyter.widget-view+json": {
       "version_major": 2,
       "version_minor": 0,
       "model_id": "a8fd5c6fcf8a4ebebeed316a514ae0a4"
      }
     },
     "metadata": {},
     "output_type": "display_data"
    },
    {
     "data": {
      "text/plain": [
       "  0%|          | 0/500 [00:00<?, ?it/s]"
      ],
      "application/vnd.jupyter.widget-view+json": {
       "version_major": 2,
       "version_minor": 0,
       "model_id": "ef368728a1af4194b30411535b273b8f"
      }
     },
     "metadata": {},
     "output_type": "display_data"
    },
    {
     "data": {
      "text/plain": [
       "  0%|          | 0/894 [00:00<?, ?it/s]"
      ],
      "application/vnd.jupyter.widget-view+json": {
       "version_major": 2,
       "version_minor": 0,
       "model_id": "c6e96c19bd894f92ae0e142d82f84d68"
      }
     },
     "metadata": {},
     "output_type": "display_data"
    },
    {
     "data": {
      "text/plain": [
       "  0%|          | 0/894 [00:00<?, ?it/s]"
      ],
      "application/vnd.jupyter.widget-view+json": {
       "version_major": 2,
       "version_minor": 0,
       "model_id": "47bdb8446b234b6bb520bb0edc46b7e5"
      }
     },
     "metadata": {},
     "output_type": "display_data"
    },
    {
     "data": {
      "text/plain": [
       "  0%|          | 0/894 [00:00<?, ?it/s]"
      ],
      "application/vnd.jupyter.widget-view+json": {
       "version_major": 2,
       "version_minor": 0,
       "model_id": "7bdb60b7f27343a6b426a19460be271e"
      }
     },
     "metadata": {},
     "output_type": "display_data"
    },
    {
     "data": {
      "text/plain": [
       "  0%|          | 0/894 [00:00<?, ?it/s]"
      ],
      "application/vnd.jupyter.widget-view+json": {
       "version_major": 2,
       "version_minor": 0,
       "model_id": "58380ad09dba4f86b1eb84b3670964f5"
      }
     },
     "metadata": {},
     "output_type": "display_data"
    },
    {
     "data": {
      "text/plain": [
       "  0%|          | 0/500 [00:00<?, ?it/s]"
      ],
      "application/vnd.jupyter.widget-view+json": {
       "version_major": 2,
       "version_minor": 0,
       "model_id": "c0cfa374d31b47098bbdaa2eb546f8d9"
      }
     },
     "metadata": {},
     "output_type": "display_data"
    },
    {
     "data": {
      "text/plain": [
       "  0%|          | 0/894 [00:00<?, ?it/s]"
      ],
      "application/vnd.jupyter.widget-view+json": {
       "version_major": 2,
       "version_minor": 0,
       "model_id": "f5f2f4f883134895a28553d302903c2a"
      }
     },
     "metadata": {},
     "output_type": "display_data"
    },
    {
     "data": {
      "text/plain": [
       "  0%|          | 0/894 [00:00<?, ?it/s]"
      ],
      "application/vnd.jupyter.widget-view+json": {
       "version_major": 2,
       "version_minor": 0,
       "model_id": "6f4ac34206f24051823952e9331eced7"
      }
     },
     "metadata": {},
     "output_type": "display_data"
    },
    {
     "data": {
      "text/plain": [
       "  0%|          | 0/894 [00:00<?, ?it/s]"
      ],
      "application/vnd.jupyter.widget-view+json": {
       "version_major": 2,
       "version_minor": 0,
       "model_id": "06dadfdb29f64ed0ab35a25e4e119f13"
      }
     },
     "metadata": {},
     "output_type": "display_data"
    },
    {
     "data": {
      "text/plain": [
       "  0%|          | 0/894 [00:00<?, ?it/s]"
      ],
      "application/vnd.jupyter.widget-view+json": {
       "version_major": 2,
       "version_minor": 0,
       "model_id": "46e38924ace6483f8b543eabf5df4b3f"
      }
     },
     "metadata": {},
     "output_type": "display_data"
    },
    {
     "data": {
      "text/plain": [
       "  0%|          | 0/500 [00:00<?, ?it/s]"
      ],
      "application/vnd.jupyter.widget-view+json": {
       "version_major": 2,
       "version_minor": 0,
       "model_id": "62f1aff4232841d1866791aba44e26d4"
      }
     },
     "metadata": {},
     "output_type": "display_data"
    },
    {
     "data": {
      "text/plain": [
       "  0%|          | 0/894 [00:00<?, ?it/s]"
      ],
      "application/vnd.jupyter.widget-view+json": {
       "version_major": 2,
       "version_minor": 0,
       "model_id": "33a6f89528974a3489c815efbca9944c"
      }
     },
     "metadata": {},
     "output_type": "display_data"
    },
    {
     "data": {
      "text/plain": [
       "  0%|          | 0/894 [00:00<?, ?it/s]"
      ],
      "application/vnd.jupyter.widget-view+json": {
       "version_major": 2,
       "version_minor": 0,
       "model_id": "dbc228be0f4b4a15b2860c4db64336d9"
      }
     },
     "metadata": {},
     "output_type": "display_data"
    },
    {
     "data": {
      "text/plain": [
       "  0%|          | 0/894 [00:00<?, ?it/s]"
      ],
      "application/vnd.jupyter.widget-view+json": {
       "version_major": 2,
       "version_minor": 0,
       "model_id": "b98364e3d6a04a24b8e9f4340630b5de"
      }
     },
     "metadata": {},
     "output_type": "display_data"
    },
    {
     "data": {
      "text/plain": [
       "  0%|          | 0/894 [00:00<?, ?it/s]"
      ],
      "application/vnd.jupyter.widget-view+json": {
       "version_major": 2,
       "version_minor": 0,
       "model_id": "4327d9d8a59b42d280833cc64a5ad54a"
      }
     },
     "metadata": {},
     "output_type": "display_data"
    },
    {
     "data": {
      "text/plain": [
       "  0%|          | 0/500 [00:00<?, ?it/s]"
      ],
      "application/vnd.jupyter.widget-view+json": {
       "version_major": 2,
       "version_minor": 0,
       "model_id": "71eccdcaf5f849089624fa40c8786c66"
      }
     },
     "metadata": {},
     "output_type": "display_data"
    },
    {
     "data": {
      "text/plain": [
       "  0%|          | 0/894 [00:00<?, ?it/s]"
      ],
      "application/vnd.jupyter.widget-view+json": {
       "version_major": 2,
       "version_minor": 0,
       "model_id": "82eb054646594b978e353158c9a64e13"
      }
     },
     "metadata": {},
     "output_type": "display_data"
    },
    {
     "data": {
      "text/plain": [
       "  0%|          | 0/894 [00:00<?, ?it/s]"
      ],
      "application/vnd.jupyter.widget-view+json": {
       "version_major": 2,
       "version_minor": 0,
       "model_id": "7b0c463f1f424d2095bcd6c194a20e45"
      }
     },
     "metadata": {},
     "output_type": "display_data"
    },
    {
     "data": {
      "text/plain": [
       "  0%|          | 0/894 [00:00<?, ?it/s]"
      ],
      "application/vnd.jupyter.widget-view+json": {
       "version_major": 2,
       "version_minor": 0,
       "model_id": "866f7a8948f346e8b6130a6ad938841f"
      }
     },
     "metadata": {},
     "output_type": "display_data"
    },
    {
     "data": {
      "text/plain": [
       "  0%|          | 0/894 [00:00<?, ?it/s]"
      ],
      "application/vnd.jupyter.widget-view+json": {
       "version_major": 2,
       "version_minor": 0,
       "model_id": "1b86932ae6f64d5bba1d5afac1cd8b8e"
      }
     },
     "metadata": {},
     "output_type": "display_data"
    },
    {
     "data": {
      "text/plain": [
       "  0%|          | 0/500 [00:00<?, ?it/s]"
      ],
      "application/vnd.jupyter.widget-view+json": {
       "version_major": 2,
       "version_minor": 0,
       "model_id": "8e92640def9e4c6a943ccfa10a6ed73a"
      }
     },
     "metadata": {},
     "output_type": "display_data"
    },
    {
     "data": {
      "text/plain": [
       "  0%|          | 0/894 [00:00<?, ?it/s]"
      ],
      "application/vnd.jupyter.widget-view+json": {
       "version_major": 2,
       "version_minor": 0,
       "model_id": "4b6369e9cca84fb899c2df12db1f2e54"
      }
     },
     "metadata": {},
     "output_type": "display_data"
    },
    {
     "data": {
      "text/plain": [
       "  0%|          | 0/894 [00:00<?, ?it/s]"
      ],
      "application/vnd.jupyter.widget-view+json": {
       "version_major": 2,
       "version_minor": 0,
       "model_id": "696d9d56044a494488f927e6f7824bfd"
      }
     },
     "metadata": {},
     "output_type": "display_data"
    },
    {
     "data": {
      "text/plain": [
       "  0%|          | 0/894 [00:00<?, ?it/s]"
      ],
      "application/vnd.jupyter.widget-view+json": {
       "version_major": 2,
       "version_minor": 0,
       "model_id": "21be1c89b9ac4177802afbc080033d80"
      }
     },
     "metadata": {},
     "output_type": "display_data"
    },
    {
     "data": {
      "text/plain": [
       "  0%|          | 0/894 [00:00<?, ?it/s]"
      ],
      "application/vnd.jupyter.widget-view+json": {
       "version_major": 2,
       "version_minor": 0,
       "model_id": "dcbf08c5f52f40f1b993151721f53e2c"
      }
     },
     "metadata": {},
     "output_type": "display_data"
    },
    {
     "data": {
      "text/plain": [
       "  0%|          | 0/500 [00:00<?, ?it/s]"
      ],
      "application/vnd.jupyter.widget-view+json": {
       "version_major": 2,
       "version_minor": 0,
       "model_id": "3d1b957a1bb946029d2bc81ef5ed6048"
      }
     },
     "metadata": {},
     "output_type": "display_data"
    },
    {
     "data": {
      "text/plain": [
       "  0%|          | 0/894 [00:00<?, ?it/s]"
      ],
      "application/vnd.jupyter.widget-view+json": {
       "version_major": 2,
       "version_minor": 0,
       "model_id": "0cb35c8d839e4c8baf06a56a42538bae"
      }
     },
     "metadata": {},
     "output_type": "display_data"
    },
    {
     "data": {
      "text/plain": [
       "  0%|          | 0/894 [00:00<?, ?it/s]"
      ],
      "application/vnd.jupyter.widget-view+json": {
       "version_major": 2,
       "version_minor": 0,
       "model_id": "6c683914466c4eaa87b92000c1c9a9c0"
      }
     },
     "metadata": {},
     "output_type": "display_data"
    },
    {
     "data": {
      "text/plain": [
       "  0%|          | 0/894 [00:00<?, ?it/s]"
      ],
      "application/vnd.jupyter.widget-view+json": {
       "version_major": 2,
       "version_minor": 0,
       "model_id": "3508ddfd0795460cbdc9975cd11ee724"
      }
     },
     "metadata": {},
     "output_type": "display_data"
    },
    {
     "data": {
      "text/plain": [
       "  0%|          | 0/894 [00:00<?, ?it/s]"
      ],
      "application/vnd.jupyter.widget-view+json": {
       "version_major": 2,
       "version_minor": 0,
       "model_id": "da1779c9ea034867bec177107b4c2a45"
      }
     },
     "metadata": {},
     "output_type": "display_data"
    },
    {
     "data": {
      "text/plain": [
       "  0%|          | 0/500 [00:00<?, ?it/s]"
      ],
      "application/vnd.jupyter.widget-view+json": {
       "version_major": 2,
       "version_minor": 0,
       "model_id": "617d8de9d6624968b380e8b29e35e2ed"
      }
     },
     "metadata": {},
     "output_type": "display_data"
    },
    {
     "data": {
      "text/plain": [
       "  0%|          | 0/894 [00:00<?, ?it/s]"
      ],
      "application/vnd.jupyter.widget-view+json": {
       "version_major": 2,
       "version_minor": 0,
       "model_id": "00f36e09444b4308a13a400ab69ed646"
      }
     },
     "metadata": {},
     "output_type": "display_data"
    },
    {
     "data": {
      "text/plain": [
       "  0%|          | 0/894 [00:00<?, ?it/s]"
      ],
      "application/vnd.jupyter.widget-view+json": {
       "version_major": 2,
       "version_minor": 0,
       "model_id": "cc4aea1d9a6840939ec6506325722bc2"
      }
     },
     "metadata": {},
     "output_type": "display_data"
    },
    {
     "data": {
      "text/plain": [
       "  0%|          | 0/894 [00:00<?, ?it/s]"
      ],
      "application/vnd.jupyter.widget-view+json": {
       "version_major": 2,
       "version_minor": 0,
       "model_id": "e4c7d60988f04266bcceeee4b74da9e0"
      }
     },
     "metadata": {},
     "output_type": "display_data"
    },
    {
     "data": {
      "text/plain": [
       "  0%|          | 0/894 [00:00<?, ?it/s]"
      ],
      "application/vnd.jupyter.widget-view+json": {
       "version_major": 2,
       "version_minor": 0,
       "model_id": "08f2f5b34587482e8085421d97947247"
      }
     },
     "metadata": {},
     "output_type": "display_data"
    },
    {
     "data": {
      "text/plain": [
       "  0%|          | 0/500 [00:00<?, ?it/s]"
      ],
      "application/vnd.jupyter.widget-view+json": {
       "version_major": 2,
       "version_minor": 0,
       "model_id": "c032e6bd7df649f18afcc39b05a9dade"
      }
     },
     "metadata": {},
     "output_type": "display_data"
    },
    {
     "data": {
      "text/plain": [
       "  0%|          | 0/894 [00:00<?, ?it/s]"
      ],
      "application/vnd.jupyter.widget-view+json": {
       "version_major": 2,
       "version_minor": 0,
       "model_id": "ee653e22ee804ef192144ef171a727db"
      }
     },
     "metadata": {},
     "output_type": "display_data"
    },
    {
     "data": {
      "text/plain": [
       "  0%|          | 0/894 [00:00<?, ?it/s]"
      ],
      "application/vnd.jupyter.widget-view+json": {
       "version_major": 2,
       "version_minor": 0,
       "model_id": "ae54512f3e1944bb870562cf33d56607"
      }
     },
     "metadata": {},
     "output_type": "display_data"
    },
    {
     "data": {
      "text/plain": [
       "  0%|          | 0/894 [00:00<?, ?it/s]"
      ],
      "application/vnd.jupyter.widget-view+json": {
       "version_major": 2,
       "version_minor": 0,
       "model_id": "b049a5e7a4584d899ac8bc7a9ef6a5c7"
      }
     },
     "metadata": {},
     "output_type": "display_data"
    },
    {
     "data": {
      "text/plain": [
       "  0%|          | 0/500 [00:00<?, ?it/s]"
      ],
      "application/vnd.jupyter.widget-view+json": {
       "version_major": 2,
       "version_minor": 0,
       "model_id": "6605a58e8f5946a89fd9f2c6323c2f58"
      }
     },
     "metadata": {},
     "output_type": "display_data"
    },
    {
     "data": {
      "text/plain": [
       "VBox(children=(Label(value='51.563 MB of 51.568 MB uploaded\\r'), FloatProgress(value=0.9999084191587786, max=1…"
      ],
      "application/vnd.jupyter.widget-view+json": {
       "version_major": 2,
       "version_minor": 0,
       "model_id": "163ef07829cd4d00b6746be235321148"
      }
     },
     "metadata": {},
     "output_type": "display_data"
    },
    {
     "data": {
      "text/plain": [
       "<IPython.core.display.HTML object>"
      ],
      "text/html": [
       "<style>\n",
       "    table.wandb td:nth-child(1) { padding: 0 10px; text-align: left ; width: auto;} td:nth-child(2) {text-align: left ; width: 100%}\n",
       "    .wandb-row { display: flex; flex-direction: row; flex-wrap: wrap; justify-content: flex-start; width: 100% }\n",
       "    .wandb-col { display: flex; flex-direction: column; flex-basis: 100%; flex: 1; padding: 10px; }\n",
       "    </style>\n",
       "<div class=\"wandb-row\"><div class=\"wandb-col\"><h3>Run history:</h3><br/><table class=\"wandb\"><tr><td>epoch</td><td>▁▁▁▁▂▂▂▂▂▃▃▃▃▃▃▄▄▄▄▄▅▅▅▅▅▆▆▆▆▆▆▇▇▇▇▇████</td></tr><tr><td>loss</td><td>█▆▄▃▃▃▃▃▃▂▂▂▂▃▂▂▂▂▃▂▃▂▁▃▁▂▂▂▂▂▂▂▂▁▁▁▁▂▂▂</td></tr><tr><td>lr</td><td>████▇▇▇▇▇▆▆▆▆▆▆▅▅▅▅▅▄▄▄▄▄▃▃▃▃▃▃▂▂▂▂▂▁▁▁▁</td></tr></table><br/></div><div class=\"wandb-col\"><h3>Run summary:</h3><br/><table class=\"wandb\"><tr><td>epoch</td><td>31</td></tr><tr><td>loss</td><td>0.08597</td></tr><tr><td>lr</td><td>3e-05</td></tr></table><br/></div></div>"
      ]
     },
     "metadata": {},
     "output_type": "display_data"
    },
    {
     "data": {
      "text/plain": [
       "<IPython.core.display.HTML object>"
      ],
      "text/html": [
       " View run <strong style=\"color:#cdcd00\">soft-firefly-1</strong> at: <a href='https://wandb.ai/thatgardnerone/dlai_sprite_diffusion/runs/o43de18t' target=\"_blank\">https://wandb.ai/thatgardnerone/dlai_sprite_diffusion/runs/o43de18t</a><br/> View project at: <a href='https://wandb.ai/thatgardnerone/dlai_sprite_diffusion' target=\"_blank\">https://wandb.ai/thatgardnerone/dlai_sprite_diffusion</a><br/>Synced 4 W&B file(s), 270 media file(s), 9 artifact file(s) and 0 other file(s)"
      ]
     },
     "metadata": {},
     "output_type": "display_data"
    },
    {
     "data": {
      "text/plain": [
       "<IPython.core.display.HTML object>"
      ],
      "text/html": [
       "Find logs at: <code>./wandb/run-20240430_153926-o43de18t/logs</code>"
      ]
     },
     "metadata": {},
     "output_type": "display_data"
    }
   ],
   "execution_count": 12
  },
  {
   "metadata": {},
   "cell_type": "code",
   "outputs": [],
   "execution_count": null,
   "source": "",
   "id": "83eeb9ad6d21c74c"
  }
 ],
 "metadata": {
  "kernelspec": {
   "display_name": "Python 3",
   "language": "python",
   "name": "python3"
  },
  "language_info": {
   "codemirror_mode": {
    "name": "ipython",
    "version": 2
   },
   "file_extension": ".py",
   "mimetype": "text/x-python",
   "name": "python",
   "nbconvert_exporter": "python",
   "pygments_lexer": "ipython2",
   "version": "2.7.6"
  }
 },
 "nbformat": 4,
 "nbformat_minor": 5
}
